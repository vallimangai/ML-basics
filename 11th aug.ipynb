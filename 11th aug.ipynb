{
 "cells": [
  {
   "cell_type": "markdown",
   "id": "60ea7aae",
   "metadata": {},
   "source": [
    "# if else"
   ]
  },
  {
   "cell_type": "code",
   "execution_count": 2,
   "id": "d363dd7f",
   "metadata": {},
   "outputs": [
    {
     "name": "stdout",
     "output_type": "stream",
     "text": [
      "odd\n"
     ]
    }
   ],
   "source": [
    "num =3\n",
    "if (num%2==0):\n",
    "    print(\"even\")\n",
    "else:\n",
    "    print(\"odd\")"
   ]
  },
  {
   "cell_type": "markdown",
   "id": "c7a0451b",
   "metadata": {},
   "source": [
    "# while"
   ]
  },
  {
   "cell_type": "code",
   "execution_count": 4,
   "id": "ceee05bc",
   "metadata": {},
   "outputs": [
    {
     "name": "stdout",
     "output_type": "stream",
     "text": [
      "the sum  1275\n"
     ]
    }
   ],
   "source": [
    "n=50\n",
    "sum=0\n",
    "i=1\n",
    "while i<=n:\n",
    "    sum=sum+i\n",
    "    i=i+1\n",
    "print(\"the sum \",sum)"
   ]
  },
  {
   "cell_type": "markdown",
   "id": "eba4e422",
   "metadata": {},
   "source": [
    "# for "
   ]
  },
  {
   "cell_type": "code",
   "execution_count": 5,
   "id": "851303c2",
   "metadata": {},
   "outputs": [
    {
     "name": "stdout",
     "output_type": "stream",
     "text": [
      "1275\n"
     ]
    }
   ],
   "source": [
    "sum=0\n",
    "for i in range(1,n+1):\n",
    "    sum=sum+i\n",
    "print(sum)"
   ]
  },
  {
   "cell_type": "code",
   "execution_count": 6,
   "id": "2334c380",
   "metadata": {},
   "outputs": [
    {
     "name": "stdout",
     "output_type": "stream",
     "text": [
      "24\n"
     ]
    }
   ],
   "source": [
    "numbers =[2,4,6,8,3,1]\n",
    "s=0\n",
    "for x in numbers:\n",
    "    s=s+x\n",
    "print(s)"
   ]
  },
  {
   "cell_type": "markdown",
   "id": "aa6ac7a9",
   "metadata": {},
   "source": [
    "# break"
   ]
  },
  {
   "cell_type": "code",
   "execution_count": 7,
   "id": "a9cc95e0",
   "metadata": {},
   "outputs": [
    {
     "name": "stdout",
     "output_type": "stream",
     "text": [
      "s\n",
      "t\n",
      "end\n"
     ]
    }
   ],
   "source": [
    "for val in \"string\":\n",
    "    if val ==\"r\":\n",
    "        break\n",
    "    print(val)\n",
    "print(\"end\")"
   ]
  },
  {
   "cell_type": "markdown",
   "id": "ae2a4438",
   "metadata": {},
   "source": [
    "# continue"
   ]
  },
  {
   "cell_type": "code",
   "execution_count": 8,
   "id": "3b7aa824",
   "metadata": {},
   "outputs": [
    {
     "name": "stdout",
     "output_type": "stream",
     "text": [
      "s\n",
      "t\n",
      "r\n",
      "i\n",
      "n\n",
      "g\n",
      "end\n"
     ]
    }
   ],
   "source": [
    "for val in \"string\":\n",
    "    if(val==\"r\"):\n",
    "        pass\n",
    "    print(val)\n",
    "print(\"end\")"
   ]
  },
  {
   "cell_type": "markdown",
   "id": "630e8ae8",
   "metadata": {},
   "source": [
    "# function"
   ]
  },
  {
   "cell_type": "code",
   "execution_count": 10,
   "id": "0c8fe914",
   "metadata": {},
   "outputs": [
    {
     "name": "stdout",
     "output_type": "stream",
     "text": [
      "line 1\n",
      "line 2\n"
     ]
    }
   ],
   "source": [
    "def lines():\n",
    "    print(\"line 1\")\n",
    "    print(\"line 2\")\n",
    "lines()"
   ]
  },
  {
   "cell_type": "code",
   "execution_count": 11,
   "id": "571a5ce2",
   "metadata": {},
   "outputs": [
    {
     "name": "stdout",
     "output_type": "stream",
     "text": [
      "8\n"
     ]
    }
   ],
   "source": [
    "def add(a,b):\n",
    "    print(a+b)\n",
    "add(3,5)"
   ]
  },
  {
   "cell_type": "code",
   "execution_count": 13,
   "id": "34a20173",
   "metadata": {},
   "outputs": [
    {
     "name": "stdout",
     "output_type": "stream",
     "text": [
      "8\n"
     ]
    }
   ],
   "source": [
    "def add(a,b):\n",
    "    return a+b\n",
    "print(add(3,5))"
   ]
  },
  {
   "cell_type": "markdown",
   "id": "c17097e7",
   "metadata": {},
   "source": [
    "# recursion"
   ]
  },
  {
   "cell_type": "code",
   "execution_count": 15,
   "id": "cd431282",
   "metadata": {},
   "outputs": [
    {
     "name": "stdout",
     "output_type": "stream",
     "text": [
      "120\n"
     ]
    }
   ],
   "source": [
    "def fact(n):\n",
    "    if(n==1):\n",
    "        return n\n",
    "    else:\n",
    "        return n*fact(n-1)\n",
    "print(fact(5))"
   ]
  },
  {
   "cell_type": "markdown",
   "id": "3340ad5c",
   "metadata": {},
   "source": [
    "# Lambda\n",
    "to create function without the name or it is known as anomous function"
   ]
  },
  {
   "cell_type": "code",
   "execution_count": 20,
   "id": "4916b8c8",
   "metadata": {},
   "outputs": [
    {
     "name": "stdout",
     "output_type": "stream",
     "text": [
      "4\n",
      "9\n"
     ]
    }
   ],
   "source": [
    "square = lambda X:X**2\n",
    "print(square(2))\n",
    "print(square(3))\n"
   ]
  },
  {
   "cell_type": "code",
   "execution_count": 22,
   "id": "2e2cf18f",
   "metadata": {},
   "outputs": [],
   "source": [
    "f=open(\"text.txt\",'w')"
   ]
  },
  {
   "cell_type": "code",
   "execution_count": 23,
   "id": "bc560d10",
   "metadata": {},
   "outputs": [
    {
     "data": {
      "text/plain": [
       "11"
      ]
     },
     "execution_count": 23,
     "metadata": {},
     "output_type": "execute_result"
    }
   ],
   "source": [
    "f.write(\"Hello world\")"
   ]
  },
  {
   "cell_type": "code",
   "execution_count": 24,
   "id": "a7052975",
   "metadata": {},
   "outputs": [],
   "source": [
    "f.close()"
   ]
  },
  {
   "cell_type": "code",
   "execution_count": 25,
   "id": "b548ca72",
   "metadata": {},
   "outputs": [],
   "source": [
    "f=open(\"text.txt\",'r')"
   ]
  },
  {
   "cell_type": "code",
   "execution_count": 26,
   "id": "8a447e70",
   "metadata": {},
   "outputs": [
    {
     "name": "stdout",
     "output_type": "stream",
     "text": [
      "Hello world\n"
     ]
    }
   ],
   "source": [
    "print(f.read())"
   ]
  },
  {
   "cell_type": "code",
   "execution_count": 29,
   "id": "c1a6f899",
   "metadata": {},
   "outputs": [],
   "source": [
    "add=lambda a,b:a+b\n",
    "sum=lambda a,b:a-b\n",
    "div=lambda a,b:a/b\n",
    "mul=lambda a,b:a*b"
   ]
  },
  {
   "cell_type": "code",
   "execution_count": 35,
   "id": "6266e544",
   "metadata": {},
   "outputs": [
    {
     "name": "stdout",
     "output_type": "stream",
     "text": [
      "1->add 2->sub 3->mul 4->div \n",
      "1\n",
      "a\n",
      "2\n",
      "b\n",
      "3\n",
      "addition of  2 + 3  : 5\n"
     ]
    }
   ],
   "source": [
    "print(\"1->add 2->sub 3->mul 4->div \")\n",
    "n=int(input())\n",
    "print(\"a\")\n",
    "a=int(input())\n",
    "print(\"b\")\n",
    "b=int(input())\n",
    "if(n==1):\n",
    "    print(\"addition of \",a ,\"+\", b ,\" :\",add(a,b))\n",
    "if(n==2):\n",
    "    print(\"subtraction :\",sub(a,b))\n",
    "if(n==3):\n",
    "    print(\"Multiplication :\",mul(a,b))\n",
    "if(n==4):\n",
    "    print(\"Division :\",div(a,b))"
   ]
  },
  {
   "cell_type": "code",
   "execution_count": 41,
   "id": "2caa95e3",
   "metadata": {},
   "outputs": [
    {
     "name": "stdout",
     "output_type": "stream",
     "text": [
      "20\n"
     ]
    },
    {
     "ename": "AttributeError",
     "evalue": "type object 'mc' has no attribute '_doc_'",
     "output_type": "error",
     "traceback": [
      "\u001b[1;31m---------------------------------------------------------------------------\u001b[0m",
      "\u001b[1;31mAttributeError\u001b[0m                            Traceback (most recent call last)",
      "\u001b[1;32m<ipython-input-41-c7d99f3bd0c3>\u001b[0m in \u001b[0;36m<module>\u001b[1;34m\u001b[0m\n\u001b[0;32m      5\u001b[0m \u001b[0mprint\u001b[0m\u001b[1;33m(\u001b[0m\u001b[0mmc\u001b[0m\u001b[1;33m.\u001b[0m\u001b[0ma\u001b[0m\u001b[1;33m)\u001b[0m\u001b[1;33m\u001b[0m\u001b[1;33m\u001b[0m\u001b[0m\n\u001b[0;32m      6\u001b[0m \u001b[0mmc\u001b[0m\u001b[1;33m.\u001b[0m\u001b[0mf\u001b[0m\u001b[1;33m\u001b[0m\u001b[1;33m\u001b[0m\u001b[0m\n\u001b[1;32m----> 7\u001b[1;33m \u001b[0mprint\u001b[0m\u001b[1;33m(\u001b[0m\u001b[0mmc\u001b[0m\u001b[1;33m.\u001b[0m\u001b[0m_doc_\u001b[0m\u001b[1;33m)\u001b[0m\u001b[1;33m\u001b[0m\u001b[1;33m\u001b[0m\u001b[0m\n\u001b[0m",
      "\u001b[1;31mAttributeError\u001b[0m: type object 'mc' has no attribute '_doc_'"
     ]
    }
   ],
   "source": [
    "class mc:\n",
    "    a=20\n",
    "    def g(self): \n",
    "        print(\"hai\")\n",
    "print(mc.a)\n",
    "mc.f\n",
    "print(mc._doc_)"
   ]
  },
  {
   "cell_type": "code",
   "execution_count": 1,
   "id": "083a5539",
   "metadata": {},
   "outputs": [
    {
     "name": "stdout",
     "output_type": "stream",
     "text": [
      "8\n"
     ]
    }
   ],
   "source": [
    "import calc\n",
    "print(calc.add(5,3))"
   ]
  },
  {
   "cell_type": "code",
   "execution_count": null,
   "id": "60b425ef",
   "metadata": {},
   "outputs": [],
   "source": []
  }
 ],
 "metadata": {
  "kernelspec": {
   "display_name": "Python 3",
   "language": "python",
   "name": "python3"
  },
  "language_info": {
   "codemirror_mode": {
    "name": "ipython",
    "version": 3
   },
   "file_extension": ".py",
   "mimetype": "text/x-python",
   "name": "python",
   "nbconvert_exporter": "python",
   "pygments_lexer": "ipython3",
   "version": "3.8.8"
  }
 },
 "nbformat": 4,
 "nbformat_minor": 5
}
