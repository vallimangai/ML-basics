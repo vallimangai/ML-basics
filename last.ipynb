{
 "cells": [
  {
   "cell_type": "markdown",
   "metadata": {},
   "source": [
    "### Importing Libraries"
   ]
  },
  {
   "cell_type": "code",
   "execution_count": 189,
   "metadata": {},
   "outputs": [],
   "source": [
    "# Importing the required libraries\n",
    "\n",
    "import pandas as pd\n",
    "from numpy import *\n",
    "import numpy as np\n",
    "from sklearn import preprocessing\n",
    "from sklearn import datasets, linear_model\n",
    "from sklearn.metrics import mean_squared_error, r2_score\n",
    "from sklearn import metrics\n",
    "from sklearn import svm\n",
    "from sklearn import neighbors\n",
    "\n",
    "from sklearn.metrics import confusion_matrix\n",
    "import matplotlib.pyplot as plt\n",
    "from sklearn.metrics import classification_report"
   ]
  },
  {
   "cell_type": "markdown",
   "metadata": {},
   "source": [
    "### Importing and pre-processing the data\n"
   ]
  },
  {
   "cell_type": "code",
   "execution_count": 190,
   "metadata": {},
   "outputs": [
    {
     "data": {
      "text/html": [
       "<div>\n",
       "<style scoped>\n",
       "    .dataframe tbody tr th:only-of-type {\n",
       "        vertical-align: middle;\n",
       "    }\n",
       "\n",
       "    .dataframe tbody tr th {\n",
       "        vertical-align: top;\n",
       "    }\n",
       "\n",
       "    .dataframe thead th {\n",
       "        text-align: right;\n",
       "    }\n",
       "</style>\n",
       "<table border=\"1\" class=\"dataframe\">\n",
       "  <thead>\n",
       "    <tr style=\"text-align: right;\">\n",
       "      <th></th>\n",
       "      <th>Gender</th>\n",
       "      <th>Age</th>\n",
       "      <th>openness</th>\n",
       "      <th>neuroticism</th>\n",
       "      <th>conscientiousness</th>\n",
       "      <th>agreeableness</th>\n",
       "      <th>extraversion</th>\n",
       "      <th>Personality (Class label)</th>\n",
       "    </tr>\n",
       "  </thead>\n",
       "  <tbody>\n",
       "    <tr>\n",
       "      <th>0</th>\n",
       "      <td>Male</td>\n",
       "      <td>17</td>\n",
       "      <td>7</td>\n",
       "      <td>4</td>\n",
       "      <td>7</td>\n",
       "      <td>3</td>\n",
       "      <td>2</td>\n",
       "      <td>extraverted</td>\n",
       "    </tr>\n",
       "    <tr>\n",
       "      <th>1</th>\n",
       "      <td>Male</td>\n",
       "      <td>19</td>\n",
       "      <td>4</td>\n",
       "      <td>5</td>\n",
       "      <td>4</td>\n",
       "      <td>6</td>\n",
       "      <td>6</td>\n",
       "      <td>serious</td>\n",
       "    </tr>\n",
       "    <tr>\n",
       "      <th>2</th>\n",
       "      <td>Female</td>\n",
       "      <td>18</td>\n",
       "      <td>7</td>\n",
       "      <td>6</td>\n",
       "      <td>4</td>\n",
       "      <td>5</td>\n",
       "      <td>5</td>\n",
       "      <td>dependable</td>\n",
       "    </tr>\n",
       "    <tr>\n",
       "      <th>3</th>\n",
       "      <td>Female</td>\n",
       "      <td>22</td>\n",
       "      <td>5</td>\n",
       "      <td>6</td>\n",
       "      <td>7</td>\n",
       "      <td>4</td>\n",
       "      <td>3</td>\n",
       "      <td>extraverted</td>\n",
       "    </tr>\n",
       "    <tr>\n",
       "      <th>4</th>\n",
       "      <td>Female</td>\n",
       "      <td>19</td>\n",
       "      <td>7</td>\n",
       "      <td>4</td>\n",
       "      <td>6</td>\n",
       "      <td>5</td>\n",
       "      <td>4</td>\n",
       "      <td>lively</td>\n",
       "    </tr>\n",
       "  </tbody>\n",
       "</table>\n",
       "</div>"
      ],
      "text/plain": [
       "   Gender  Age  openness  neuroticism  conscientiousness  agreeableness  \\\n",
       "0    Male   17         7            4                  7              3   \n",
       "1    Male   19         4            5                  4              6   \n",
       "2  Female   18         7            6                  4              5   \n",
       "3  Female   22         5            6                  7              4   \n",
       "4  Female   19         7            4                  6              5   \n",
       "\n",
       "   extraversion Personality (Class label)  \n",
       "0             2               extraverted  \n",
       "1             6                   serious  \n",
       "2             5                dependable  \n",
       "3             3               extraverted  \n",
       "4             4                    lively  "
      ]
     },
     "execution_count": 190,
     "metadata": {},
     "output_type": "execute_result"
    }
   ],
   "source": [
    "# Load the training dataset\n",
    "\n",
    "data =pd.read_csv('train dataset.csv')\n",
    "data.head() # To display first 5 records in training datset"
   ]
  },
  {
   "cell_type": "code",
   "execution_count": 191,
   "metadata": {},
   "outputs": [
    {
     "data": {
      "text/html": [
       "<div>\n",
       "<style scoped>\n",
       "    .dataframe tbody tr th:only-of-type {\n",
       "        vertical-align: middle;\n",
       "    }\n",
       "\n",
       "    .dataframe tbody tr th {\n",
       "        vertical-align: top;\n",
       "    }\n",
       "\n",
       "    .dataframe thead th {\n",
       "        text-align: right;\n",
       "    }\n",
       "</style>\n",
       "<table border=\"1\" class=\"dataframe\">\n",
       "  <thead>\n",
       "    <tr style=\"text-align: right;\">\n",
       "      <th></th>\n",
       "      <th>Gender</th>\n",
       "      <th>Age</th>\n",
       "      <th>openness</th>\n",
       "      <th>neuroticism</th>\n",
       "      <th>conscientiousness</th>\n",
       "      <th>agreeableness</th>\n",
       "      <th>extraversion</th>\n",
       "      <th>Personality (Class label)</th>\n",
       "    </tr>\n",
       "  </thead>\n",
       "  <tbody>\n",
       "    <tr>\n",
       "      <th>0</th>\n",
       "      <td>1</td>\n",
       "      <td>17</td>\n",
       "      <td>7</td>\n",
       "      <td>4</td>\n",
       "      <td>7</td>\n",
       "      <td>3</td>\n",
       "      <td>2</td>\n",
       "      <td>extraverted</td>\n",
       "    </tr>\n",
       "    <tr>\n",
       "      <th>1</th>\n",
       "      <td>1</td>\n",
       "      <td>19</td>\n",
       "      <td>4</td>\n",
       "      <td>5</td>\n",
       "      <td>4</td>\n",
       "      <td>6</td>\n",
       "      <td>6</td>\n",
       "      <td>serious</td>\n",
       "    </tr>\n",
       "    <tr>\n",
       "      <th>2</th>\n",
       "      <td>0</td>\n",
       "      <td>18</td>\n",
       "      <td>7</td>\n",
       "      <td>6</td>\n",
       "      <td>4</td>\n",
       "      <td>5</td>\n",
       "      <td>5</td>\n",
       "      <td>dependable</td>\n",
       "    </tr>\n",
       "    <tr>\n",
       "      <th>3</th>\n",
       "      <td>0</td>\n",
       "      <td>22</td>\n",
       "      <td>5</td>\n",
       "      <td>6</td>\n",
       "      <td>7</td>\n",
       "      <td>4</td>\n",
       "      <td>3</td>\n",
       "      <td>extraverted</td>\n",
       "    </tr>\n",
       "    <tr>\n",
       "      <th>4</th>\n",
       "      <td>0</td>\n",
       "      <td>19</td>\n",
       "      <td>7</td>\n",
       "      <td>4</td>\n",
       "      <td>6</td>\n",
       "      <td>5</td>\n",
       "      <td>4</td>\n",
       "      <td>lively</td>\n",
       "    </tr>\n",
       "  </tbody>\n",
       "</table>\n",
       "</div>"
      ],
      "text/plain": [
       "  Gender  Age  openness  neuroticism  conscientiousness  agreeableness  \\\n",
       "0      1   17         7            4                  7              3   \n",
       "1      1   19         4            5                  4              6   \n",
       "2      0   18         7            6                  4              5   \n",
       "3      0   22         5            6                  7              4   \n",
       "4      0   19         7            4                  6              5   \n",
       "\n",
       "   extraversion Personality (Class label)  \n",
       "0             2               extraverted  \n",
       "1             6                   serious  \n",
       "2             5                dependable  \n",
       "3             3               extraverted  \n",
       "4             4                    lively  "
      ]
     },
     "execution_count": 191,
     "metadata": {},
     "output_type": "execute_result"
    }
   ],
   "source": [
    "# Converting categorical data into numerical.\n",
    "# Male: 1 and Female: 0\n",
    "data=data.replace(to_replace=['Male', 'Female'], value=[1,0])\n",
    "data.head()"
   ]
  },
  {
   "cell_type": "code",
   "execution_count": 192,
   "metadata": {},
   "outputs": [
    {
     "name": "stdout",
     "output_type": "stream",
     "text": [
      "[[1 17 7 ... 7 3 2]\n",
      " [1 19 4 ... 4 6 6]\n",
      " [0 18 7 ... 4 5 5]\n",
      " ...\n",
      " [1 22 5 ... 3 6 1]\n",
      " [1 19 5 ... 5 7 5]\n",
      " [0 18 5 ... 7 6 5]]\n"
     ]
    }
   ],
   "source": [
    "# Divide training data based on independent and dependent attributes\n",
    "\n",
    "array = data.values\n",
    "df=pd.DataFrame(array)\n",
    "maindf =df[[0,1,2,3,4,5,6]] \n",
    "train_x=maindf.values\n",
    "print (train_x) # independent variables \n"
   ]
  },
  {
   "cell_type": "code",
   "execution_count": 193,
   "metadata": {},
   "outputs": [
    {
     "name": "stdout",
     "output_type": "stream",
     "text": [
      "['extraverted' 'serious' 'dependable' 'extraverted' 'lively' 'lively'\n",
      " 'extraverted' 'extraverted' 'dependable' 'lively' 'serious' 'extraverted'\n",
      " 'lively' 'dependable' 'responsible' 'extraverted' 'serious' 'dependable'\n",
      " 'responsible' 'extraverted' 'responsible' 'extraverted' 'responsible'\n",
      " 'serious' 'serious' 'dependable' 'extraverted' 'extraverted' 'lively'\n",
      " 'lively' 'extraverted' 'extraverted' 'dependable' 'lively' 'serious'\n",
      " 'lively' 'responsible' 'responsible' 'dependable' 'serious' 'dependable'\n",
      " 'extraverted' 'serious' 'extraverted' 'dependable' 'dependable'\n",
      " 'responsible' 'serious' 'lively' 'lively' 'extraverted' 'extraverted'\n",
      " 'serious' 'extraverted' 'lively' 'lively' 'extraverted' 'dependable'\n",
      " 'lively' 'lively' 'responsible' 'extraverted' 'responsible' 'dependable'\n",
      " 'serious' 'serious' 'responsible' 'dependable' 'responsible' 'dependable'\n",
      " 'extraverted' 'extraverted' 'responsible' 'dependable' 'responsible'\n",
      " 'serious' 'extraverted' 'dependable' 'lively' 'lively' 'extraverted'\n",
      " 'lively' 'serious' 'responsible' 'extraverted' 'serious' 'dependable'\n",
      " 'serious' 'dependable' 'responsible' 'dependable' 'extraverted'\n",
      " 'extraverted' 'serious' 'lively' 'responsible' 'dependable' 'lively'\n",
      " 'serious' 'responsible' 'responsible' 'lively' 'dependable' 'dependable'\n",
      " 'lively' 'extraverted' 'responsible' 'lively' 'extraverted' 'dependable'\n",
      " 'serious' 'serious' 'lively' 'lively' 'extraverted' 'responsible'\n",
      " 'dependable' 'dependable' 'responsible' 'dependable' 'responsible'\n",
      " 'serious' 'serious' 'lively' 'serious' 'extraverted' 'serious'\n",
      " 'extraverted' 'responsible' 'responsible' 'lively' 'extraverted'\n",
      " 'responsible' 'serious' 'responsible' 'serious' 'serious' 'extraverted'\n",
      " 'extraverted' 'dependable' 'dependable' 'lively' 'lively' 'dependable'\n",
      " 'responsible' 'serious' 'serious' 'serious' 'extraverted' 'serious'\n",
      " 'extraverted' 'dependable' 'responsible' 'lively' 'extraverted'\n",
      " 'dependable' 'serious' 'responsible' 'extraverted' 'lively' 'serious'\n",
      " 'extraverted' 'dependable' 'dependable' 'dependable' 'responsible'\n",
      " 'dependable' 'responsible' 'lively' 'responsible' 'lively' 'extraverted'\n",
      " 'extraverted' 'responsible' 'serious' 'extraverted' 'lively'\n",
      " 'extraverted' 'extraverted' 'serious' 'serious' 'serious' 'responsible'\n",
      " 'serious' 'extraverted' 'lively' 'lively' 'extraverted' 'serious'\n",
      " 'dependable' 'serious' 'lively' 'responsible' 'lively' 'serious'\n",
      " 'extraverted' 'extraverted' 'responsible' 'lively' 'extraverted'\n",
      " 'dependable' 'responsible' 'serious' 'responsible' 'dependable'\n",
      " 'responsible' 'serious' 'dependable' 'serious' 'lively' 'extraverted'\n",
      " 'serious' 'dependable' 'serious' 'lively' 'extraverted' 'lively'\n",
      " 'responsible' 'responsible' 'extraverted' 'serious' 'extraverted'\n",
      " 'responsible' 'responsible' 'responsible' 'dependable' 'dependable'\n",
      " 'dependable' 'responsible' 'serious' 'extraverted' 'serious' 'lively'\n",
      " 'extraverted' 'extraverted' 'dependable' 'lively' 'lively' 'serious'\n",
      " 'responsible' 'dependable' 'responsible' 'extraverted' 'responsible'\n",
      " 'extraverted' 'serious' 'dependable' 'extraverted' 'extraverted'\n",
      " 'dependable' 'responsible' 'lively' 'serious' 'serious' 'serious'\n",
      " 'extraverted' 'dependable' 'responsible' 'dependable' 'lively'\n",
      " 'responsible' 'lively' 'extraverted' 'serious' 'responsible'\n",
      " 'responsible' 'dependable' 'dependable' 'serious' 'serious' 'serious'\n",
      " 'lively' 'serious' 'extraverted' 'responsible' 'lively' 'dependable'\n",
      " 'serious' 'lively' 'dependable' 'lively' 'dependable' 'serious'\n",
      " 'extraverted' 'dependable' 'lively' 'serious' 'extraverted' 'lively'\n",
      " 'lively' 'extraverted' 'dependable' 'serious' 'extraverted' 'responsible'\n",
      " 'serious' 'serious' 'responsible' 'lively' 'serious' 'serious' 'lively'\n",
      " 'serious' 'responsible' 'dependable' 'dependable' 'lively' 'extraverted'\n",
      " 'extraverted' 'lively' 'responsible' 'serious' 'serious' 'responsible'\n",
      " 'dependable' 'serious' 'extraverted' 'dependable' 'extraverted' 'lively'\n",
      " 'dependable' 'dependable' 'lively' 'responsible' 'lively' 'serious'\n",
      " 'serious' 'dependable' 'serious' 'extraverted' 'extraverted' 'lively'\n",
      " 'extraverted' 'responsible' 'extraverted' 'serious' 'lively' 'serious'\n",
      " 'serious' 'extraverted' 'extraverted' 'serious' 'dependable' 'lively'\n",
      " 'lively' 'dependable' 'lively' 'dependable' 'serious' 'extraverted'\n",
      " 'dependable' 'responsible' 'dependable' 'serious' 'serious' 'responsible'\n",
      " 'responsible' 'extraverted' 'dependable' 'lively' 'serious' 'serious'\n",
      " 'lively' 'responsible' 'responsible' 'extraverted' 'lively' 'lively'\n",
      " 'extraverted' 'dependable' 'dependable' 'serious' 'extraverted'\n",
      " 'dependable' 'lively' 'serious' 'extraverted' 'responsible' 'extraverted'\n",
      " 'extraverted' 'responsible' 'dependable' 'serious' 'lively' 'serious'\n",
      " 'extraverted' 'dependable' 'responsible' 'extraverted' 'serious'\n",
      " 'serious' 'responsible' 'lively' 'responsible' 'serious' 'dependable'\n",
      " 'dependable' 'serious' 'dependable' 'dependable' 'responsible' 'lively'\n",
      " 'dependable' 'responsible' 'serious' 'lively' 'dependable' 'serious'\n",
      " 'lively' 'responsible' 'responsible' 'extraverted' 'serious' 'lively'\n",
      " 'serious' 'lively' 'extraverted' 'lively' 'dependable' 'lively'\n",
      " 'dependable' 'responsible' 'responsible' 'responsible' 'serious'\n",
      " 'dependable' 'responsible' 'serious' 'serious' 'lively' 'serious'\n",
      " 'extraverted' 'responsible' 'responsible' 'extraverted' 'extraverted'\n",
      " 'serious' 'dependable' 'lively' 'responsible' 'lively' 'extraverted'\n",
      " 'extraverted' 'dependable' 'responsible' 'extraverted' 'responsible'\n",
      " 'extraverted' 'extraverted' 'serious' 'lively' 'serious' 'serious'\n",
      " 'extraverted' 'dependable' 'responsible' 'lively' 'extraverted'\n",
      " 'responsible' 'extraverted' 'dependable' 'dependable' 'serious'\n",
      " 'responsible' 'dependable' 'serious' 'dependable' 'responsible'\n",
      " 'responsible' 'serious' 'lively' 'extraverted' 'dependable' 'extraverted'\n",
      " 'serious' 'serious' 'responsible' 'serious' 'serious' 'extraverted'\n",
      " 'extraverted' 'responsible' 'lively' 'responsible' 'dependable'\n",
      " 'extraverted' 'dependable' 'dependable' 'dependable' 'dependable'\n",
      " 'extraverted' 'lively' 'lively' 'extraverted' 'responsible' 'dependable'\n",
      " 'extraverted' 'dependable' 'serious' 'responsible' 'serious'\n",
      " 'extraverted' 'extraverted' 'serious' 'serious' 'lively' 'responsible'\n",
      " 'dependable' 'serious' 'lively' 'dependable' 'lively' 'extraverted'\n",
      " 'dependable' 'dependable' 'serious' 'lively' 'lively' 'extraverted'\n",
      " 'serious' 'lively' 'lively' 'serious' 'extraverted' 'serious'\n",
      " 'dependable' 'extraverted' 'extraverted' 'serious' 'responsible'\n",
      " 'responsible' 'extraverted' 'responsible' 'serious' 'responsible'\n",
      " 'extraverted' 'serious' 'serious' 'responsible' 'extraverted' 'lively'\n",
      " 'dependable' 'extraverted' 'extraverted' 'dependable' 'lively'\n",
      " 'extraverted' 'lively' 'responsible' 'dependable' 'dependable' 'serious'\n",
      " 'responsible' 'extraverted' 'lively' 'extraverted' 'dependable' 'serious'\n",
      " 'responsible' 'serious' 'lively' 'lively' 'responsible' 'extraverted'\n",
      " 'serious' 'extraverted' 'lively' 'serious' 'extraverted' 'dependable'\n",
      " 'lively' 'lively' 'serious' 'extraverted' 'responsible' 'dependable'\n",
      " 'lively' 'serious' 'responsible' 'dependable' 'lively' 'dependable'\n",
      " 'extraverted' 'extraverted' 'lively' 'dependable' 'responsible' 'serious'\n",
      " 'extraverted' 'dependable' 'lively' 'lively' 'responsible' 'lively'\n",
      " 'serious' 'responsible' 'lively' 'serious' 'dependable' 'serious'\n",
      " 'lively' 'responsible' 'dependable' 'extraverted' 'dependable' 'serious'\n",
      " 'lively' 'responsible' 'extraverted' 'lively' 'serious' 'responsible'\n",
      " 'responsible' 'lively' 'serious' 'dependable' 'lively' 'extraverted'\n",
      " 'serious' 'lively' 'extraverted' 'dependable' 'responsible' 'serious'\n",
      " 'lively' 'lively' 'dependable' 'responsible' 'dependable' 'dependable'\n",
      " 'lively' 'dependable' 'responsible' 'serious' 'dependable' 'lively'\n",
      " 'serious' 'extraverted' 'lively' 'extraverted' 'responsible'\n",
      " 'responsible' 'dependable' 'extraverted' 'responsible' 'serious' 'lively'\n",
      " 'serious' 'serious' 'extraverted' 'serious' 'dependable' 'dependable'\n",
      " 'lively' 'extraverted' 'dependable' 'responsible' 'serious' 'lively'\n",
      " 'serious' 'extraverted' 'serious' 'serious' 'dependable' 'responsible'\n",
      " 'serious' 'extraverted' 'dependable' 'serious' 'dependable' 'extraverted'\n",
      " 'lively' 'serious' 'responsible' 'dependable' 'lively' 'dependable'\n",
      " 'serious' 'dependable' 'responsible' 'lively' 'dependable' 'lively'\n",
      " 'extraverted' 'extraverted' 'lively' 'serious' 'extraverted' 'lively'\n",
      " 'dependable' 'extraverted' 'serious' 'serious' 'dependable' 'responsible'\n",
      " 'serious' 'extraverted' 'serious' 'lively' 'extraverted' 'serious'\n",
      " 'responsible' 'serious' 'lively' 'responsible' 'dependable' 'serious'\n",
      " 'extraverted' 'extraverted']\n"
     ]
    }
   ],
   "source": [
    "temp=df[7] # target variable\n",
    "train_y =temp.values\n",
    "\n",
    "for i in range(len(train_y)):\n",
    "\ttrain_y[i] =str(train_y[i])\n",
    "print(train_y) # dependent/target variables"
   ]
  },
  {
   "cell_type": "markdown",
   "metadata": {},
   "source": [
    "### Training the model"
   ]
  },
  {
   "cell_type": "code",
   "execution_count": 194,
   "metadata": {},
   "outputs": [
    {
     "data": {
      "text/plain": [
       "LogisticRegression(max_iter=1000, multi_class='multinomial', solver='newton-cg')"
      ]
     },
     "execution_count": 194,
     "metadata": {},
     "output_type": "execute_result"
    }
   ],
   "source": [
    "# Using Logistic Regression\n",
    "\n",
    "model_logistic = linear_model.LogisticRegression(multi_class='multinomial', solver='newton-cg',max_iter =1000)\n",
    "model_logistic.fit(train_x, train_y) "
   ]
  },
  {
   "cell_type": "code",
   "execution_count": 195,
   "metadata": {},
   "outputs": [
    {
     "data": {
      "text/plain": [
       "SVC(C=5, kernel='poly')"
      ]
     },
     "execution_count": 195,
     "metadata": {},
     "output_type": "execute_result"
    }
   ],
   "source": [
    "# Using Support Vector Machine\n",
    "\n",
    "model_svm=svm.SVC(kernel=\"poly\",C=5)\n",
    "# Perform the training\n",
    "model_svm.fit(train_x,train_y)"
   ]
  },
  {
   "cell_type": "markdown",
   "metadata": {},
   "source": [
    "### Predicting Target variable using Test data"
   ]
  },
  {
   "cell_type": "code",
   "execution_count": 196,
   "metadata": {},
   "outputs": [],
   "source": [
    "# Load test dataset\n",
    "\n",
    "testdata =pd.read_csv('test dataset.csv')\n",
    "test = testdata.values"
   ]
  },
  {
   "cell_type": "code",
   "execution_count": 197,
   "metadata": {},
   "outputs": [],
   "source": [
    "# converting categorical data into numerical.\n",
    "# Male: 1 and Female: 0\n",
    "\n",
    "for i in range(len(test)):\n",
    "\tif test[i][0]==\"Male\":\n",
    "\t\ttest[i][0]=1\n",
    "\telse:\n",
    "\t\ttest[i][0]=0"
   ]
  },
  {
   "cell_type": "code",
   "execution_count": 198,
   "metadata": {},
   "outputs": [
    {
     "name": "stdout",
     "output_type": "stream",
     "text": [
      "[[0 20 7 ... 9 5 5]\n",
      " [1 17 5 ... 5 2 4]\n",
      " [0 25 5 ... 7 2 4]\n",
      " ...\n",
      " [1 18 7 ... 6 2 7]\n",
      " [1 23 6 ... 5 4 3]\n",
      " [0 18 5 ... 3 5 6]]\n"
     ]
    }
   ],
   "source": [
    "# Store independent variable values in test_x array\n",
    "\n",
    "df1=pd.DataFrame(test)\n",
    "testdf =df1[[0,1,2,3,4,5,6]]\n",
    "test_x=testdf.values\n",
    "print(test_x)"
   ]
  },
  {
   "cell_type": "code",
   "execution_count": 199,
   "metadata": {},
   "outputs": [],
   "source": [
    "# store target variable values in test_y array\n",
    "\n",
    "temp=df1[7]\n",
    "test_y =temp.values"
   ]
  },
  {
   "cell_type": "code",
   "execution_count": 200,
   "metadata": {},
   "outputs": [],
   "source": [
    "# Predicting target attribute  value by using logistic regression model\n",
    "\n",
    "y_pred_logistic = model_logistic.predict(test_x)\n",
    "\n",
    "# Store predicted target variable values in ouput_logistic.csv file\n",
    "\n",
    "for i in range(len(y_pred_logistic)) :\n",
    "\ty_pred_logistic[i]=str((y_pred_logistic[i]))\n",
    "DF = pd.DataFrame(y_pred_logistic,columns=['Predicted Personality'])\n",
    "DF.index=DF.index+1\n",
    "DF.index.names = ['Person No']\n",
    "DF.to_csv(\"output_logistic.csv\")"
   ]
  },
  {
   "cell_type": "code",
   "execution_count": 201,
   "metadata": {},
   "outputs": [],
   "source": [
    "# Predicting target attribute  value by using SVM model\n",
    "\n",
    "y_pred_svm= model_svm.predict(test_x)\n",
    "\n",
    "# Store predicted target variable values in ouput_logistic.csv file\n",
    "\n",
    "for i in range(len(y_pred_svm)) :\n",
    "\ty_pred_svm[i]=str((y_pred_svm[i]))\n",
    "DF = pd.DataFrame(y_pred_logistic,columns=['Predicted Personality'])\n",
    "DF.index=DF.index+1\n",
    "DF.index.names = ['Person No']\n",
    "DF.to_csv(\"output_svm.csv\")"
   ]
  },
  {
   "cell_type": "markdown",
   "metadata": {},
   "source": [
    "### Evaluating "
   ]
  },
  {
   "cell_type": "markdown",
   "metadata": {},
   "source": [
    "#### Logistic Regression"
   ]
  },
  {
   "cell_type": "code",
   "execution_count": 202,
   "metadata": {},
   "outputs": [
    {
     "name": "stdout",
     "output_type": "stream",
     "text": [
      "0.7968253968253968\n"
     ]
    }
   ],
   "source": [
    "# Calculating accuracy of Logistic model\n",
    "accuracy_logistic = model_logistic.score(test_x,test_y)\n",
    "print(accuracy_logistic)"
   ]
  },
  {
   "cell_type": "markdown",
   "metadata": {},
   "source": [
    "#### SVM"
   ]
  },
  {
   "cell_type": "code",
   "execution_count": 205,
   "metadata": {},
   "outputs": [
    {
     "name": "stdout",
     "output_type": "stream",
     "text": [
      "0.5873015873015873\n"
     ]
    }
   ],
   "source": [
    "# Calculating accuracy of SVM model\n",
    "accuracy_svm = model_svm.score(test_x,test_y)\n",
    "print(accuracy_svm)"
   ]
  },
  {
   "cell_type": "markdown",
   "metadata": {},
   "source": [
    "### Conclusion"
   ]
  },
  {
   "cell_type": "code",
   "execution_count": 208,
   "metadata": {},
   "outputs": [
    {
     "name": "stdout",
     "output_type": "stream",
     "text": [
      "              precision    recall  f1-score   support\n",
      "\n",
      "  dependable       0.33      0.24      0.28        21\n",
      " extraverted       0.80      0.86      0.83        77\n",
      "      lively       0.88      0.62      0.73        24\n",
      " responsible       0.93      0.65      0.76        40\n",
      "     serious       0.80      0.91      0.85       153\n",
      "\n",
      "    accuracy                           0.80       315\n",
      "   macro avg       0.75      0.66      0.69       315\n",
      "weighted avg       0.79      0.80      0.79       315\n",
      "\n"
     ]
    }
   ],
   "source": [
    "# Classification report for Logistic Regression:\n",
    "print(classification_report(test_y,y_pred_logistic))"
   ]
  },
  {
   "cell_type": "code",
   "execution_count": 209,
   "metadata": {},
   "outputs": [
    {
     "name": "stdout",
     "output_type": "stream",
     "text": [
      "              precision    recall  f1-score   support\n",
      "\n",
      "  dependable       0.14      0.05      0.07        21\n",
      " extraverted       0.63      0.52      0.57        77\n",
      "      lively       0.18      0.08      0.11        24\n",
      " responsible       0.56      0.12      0.20        40\n",
      "     serious       0.61      0.90      0.72       153\n",
      "\n",
      "    accuracy                           0.59       315\n",
      "   macro avg       0.42      0.33      0.34       315\n",
      "weighted avg       0.54      0.59      0.53       315\n",
      "\n"
     ]
    }
   ],
   "source": [
    "# Classification report for SVM:\n",
    "print(classification_report(test_y,y_pred_svm))"
   ]
  },
  {
   "cell_type": "markdown",
   "metadata": {},
   "source": [
    "Accuracy of model when trained with <b>Logistic Regression Algortihm: 79.68 %</b><br>\n",
    "Accuracy of model when trained with <b>SVM: 58.73 %</b>\n",
    "<hr>\n",
    "Therfore Logistic regression works well for the given problem."
   ]
  },
  {
   "cell_type": "markdown",
   "metadata": {},
   "source": []
  }
 ],
 "metadata": {
  "interpreter": {
   "hash": "3d79dcf316147821ae274b03680be6f97592d7d120faed864fd87e43e0cdf84e"
  },
  "kernelspec": {
   "display_name": "Python 3",
   "language": "python",
   "name": "python3"
  },
  "language_info": {
   "codemirror_mode": {
    "name": "ipython",
    "version": 3
   },
   "file_extension": ".py",
   "mimetype": "text/x-python",
   "name": "python",
   "nbconvert_exporter": "python",
   "pygments_lexer": "ipython3",
   "version": "3.8.8"
  }
 },
 "nbformat": 4,
 "nbformat_minor": 2
}
