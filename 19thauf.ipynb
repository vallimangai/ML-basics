{
 "cells": [
  {
   "cell_type": "code",
   "execution_count": 10,
   "id": "c209436d",
   "metadata": {},
   "outputs": [
    {
     "data": {
      "text/plain": [
       "8"
      ]
     },
     "execution_count": 10,
     "metadata": {},
     "output_type": "execute_result"
    }
   ],
   "source": [
    "import calc\n",
    "calc.add(5,3)"
   ]
  },
  {
   "cell_type": "code",
   "execution_count": 7,
   "id": "523c1b6d",
   "metadata": {},
   "outputs": [
    {
     "name": "stdout",
     "output_type": "stream",
     "text": [
      "{'name': 'abc', 'age': 18, 'id': 101, 'salary': 10000}\n"
     ]
    }
   ],
   "source": [
    "class employee():\n",
    "    def __init__(self,name,age,id,salary):\n",
    "        self.name=name\n",
    "        self.age=age\n",
    "        self.id=id\n",
    "        self.salary=salary\n",
    "emp1=employee(\"abc\",18,101,10000)\n",
    "print(emp1.__dict__)"
   ]
  },
  {
   "cell_type": "code",
   "execution_count": 9,
   "id": "e9750553",
   "metadata": {},
   "outputs": [
    {
     "name": "stdout",
     "output_type": "stream",
     "text": [
      "abc\n"
     ]
    }
   ],
   "source": [
    "#single level inhertance\n",
    "class employee1():\n",
    "    def __init__(self,name,age,salary):\n",
    "        self.name=name\n",
    "        self.age=age\n",
    "        self.salary=salary\n",
    "class childemployee(employee1):\n",
    "    def __init__(self,name,age,salary,id):\n",
    "        self.id=id\n",
    "cemp1=childemployee(\"abc\",18,101,10000)\n",
    "print(emp1.name)"
   ]
  },
  {
   "cell_type": "code",
   "execution_count": 20,
   "id": "75b74736",
   "metadata": {},
   "outputs": [
    {
     "name": "stdout",
     "output_type": "stream",
     "text": [
      "{'name': 'abc', 'age': 18, 'salary': 101, 'id': 10000}\n"
     ]
    }
   ],
   "source": [
    "#Multilevel inheritance\n",
    "class employee2():\n",
    "    def __init__(self,name,age):\n",
    "        self.name=name\n",
    "        self.age=age\n",
    "class childemployee1(employee2):\n",
    "    def __init__(self,name,age,salary):\n",
    "        employee2.__init__(self,name,age)\n",
    "        self.salary=salary\n",
    "class grandchildemployee(childemployee1):\n",
    "    def __init__(self,name,age,salary,id):\n",
    "        childemployee1.__init__(self,name,age,salary)\n",
    "        self.id=id\n",
    "gcemp1=grandchildemployee(\"abc\",18,101,10000)\n",
    "print(gcemp1.__dict__)"
   ]
  },
  {
   "cell_type": "code",
   "execution_count": 25,
   "id": "bcea6048",
   "metadata": {},
   "outputs": [
    {
     "name": "stdout",
     "output_type": "stream",
     "text": [
      "{'name': 'abc', 'age': 18, 'salary': 10000}\n",
      "{'name': 'abc', 'age': 18, 'salary': 10000, 'type': 'a'}\n"
     ]
    }
   ],
   "source": [
    "#heritical inheritance\n",
    "class employee3():\n",
    "    def __init__(self,name,age):\n",
    "        self.name=name\n",
    "        self.age=age\n",
    "class childemployee2(employee3):\n",
    "    def __init__(self,name,age,salary):\n",
    "        employee3.__init__(self,name,age)\n",
    "        self.salary=salary\n",
    "class childemployee3(employee3):\n",
    "    def __init__(self,name,age,salary,type):\n",
    "        employee2.__init__(self,name,age)\n",
    "        self.salary=salary\n",
    "        self.type=type\n",
    "cemp1=childemployee2(\"abc\",18,10000)\n",
    "cemp2=childemployee3(\"abc\",18,10000,\"a\")\n",
    "print(cemp1.__dict__)\n",
    "print(cemp2.__dict__)\n"
   ]
  },
  {
   "cell_type": "code",
   "execution_count": null,
   "id": "97235c1c",
   "metadata": {},
   "outputs": [],
   "source": [
    "#ploymorshim\n"
   ]
  }
 ],
 "metadata": {
  "kernelspec": {
   "display_name": "Python 3",
   "language": "python",
   "name": "python3"
  },
  "language_info": {
   "codemirror_mode": {
    "name": "ipython",
    "version": 3
   },
   "file_extension": ".py",
   "mimetype": "text/x-python",
   "name": "python",
   "nbconvert_exporter": "python",
   "pygments_lexer": "ipython3",
   "version": "3.8.8"
  }
 },
 "nbformat": 4,
 "nbformat_minor": 5
}
