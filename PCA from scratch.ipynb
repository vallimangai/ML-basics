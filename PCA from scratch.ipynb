{
 "cells": [
  {
   "cell_type": "code",
   "execution_count": 155,
   "id": "33894a61",
   "metadata": {},
   "outputs": [],
   "source": [
    "import numpy as np\n",
    " \n",
    "def PCA(X , num_components):\n",
    "     \n",
    "    #Step-1\n",
    "    X_meaned = X - np.mean(X , axis = 0)\n",
    "    print(X_meaned)\n",
    "     \n",
    "    #Step-2\n",
    "    cov_mat = np.cov(X_meaned , rowvar = False)\n",
    "    print(cov_mat)\n",
    "     \n",
    "    #Step-3\n",
    "    eigen_values , eigen_vectors = np.linalg.eigh(cov_mat)\n",
    "    print(np.linalg.eigh(cov_mat))\n",
    "#Step-4\n",
    "    sorted_index = np.argsort(eigen_values)[::-1]\n",
    "    sorted_eigenvalue = eigen_values[sorted_index]\n",
    "    sorted_eigenvectors = eigen_vectors[sorted_index]\n",
    "    print(eigen_vectors[1])\n",
    "    \n",
    "    subset=[]\n",
    "    for i in range(num_components):\n",
    "        subset.append(eigen_vectors[sorted_index[i]])\n",
    "    arr = np.array(subset)\n",
    "    #Step-5\n",
    "#     eigenvector_subset = sorted_eigenvectors[:,1]\n",
    "#     print(\"Eigen values\",sorted_eigenvalue)\n",
    "#     print (\"Eigen vectors\",eigen_vectors)\n",
    "#     print( \"Eigen sets\",eigenvector_subset)\n",
    "    #Step-6\n",
    "    X_reduced = np.dot(arr , X_meaned.transpose() ).transpose()\n",
    "     \n",
    "    return X_reduced"
   ]
  },
  {
   "cell_type": "code",
   "execution_count": 159,
   "id": "18841db5",
   "metadata": {},
   "outputs": [],
   "source": [
    "X=[[3,2],[4,6],[5,4],[6,7],[7,8],[8,9]]"
   ]
  },
  {
   "cell_type": "code",
   "execution_count": 160,
   "id": "251ba00c",
   "metadata": {},
   "outputs": [
    {
     "data": {
      "text/plain": [
       "array([5.5, 6. ])"
      ]
     },
     "execution_count": 160,
     "metadata": {},
     "output_type": "execute_result"
    }
   ],
   "source": [
    "np.mean(X,axis=0)"
   ]
  },
  {
   "cell_type": "code",
   "execution_count": 161,
   "id": "c5908cde",
   "metadata": {},
   "outputs": [
    {
     "name": "stdout",
     "output_type": "stream",
     "text": [
      "[[-2.5 -4. ]\n",
      " [-1.5  0. ]\n",
      " [-0.5 -2. ]\n",
      " [ 0.5  1. ]\n",
      " [ 1.5  2. ]\n",
      " [ 2.5  3. ]]\n",
      "[[3.5 4.4]\n",
      " [4.4 6.8]]\n",
      "(array([0.45079794, 9.84920206]), array([[-0.82192562,  0.56959484],\n",
      "       [ 0.56959484,  0.82192562]]))\n",
      "[0.56959484 0.82192562]\n"
     ]
    },
    {
     "data": {
      "text/plain": [
       "array([[-4.71168956],\n",
       "       [-0.85439226],\n",
       "       [-1.92864865],\n",
       "       [ 1.10672304],\n",
       "       [ 2.49824349],\n",
       "       [ 3.88976395]])"
      ]
     },
     "execution_count": 161,
     "metadata": {},
     "output_type": "execute_result"
    }
   ],
   "source": [
    "PCA(X,1)"
   ]
  },
  {
   "cell_type": "code",
   "execution_count": 82,
   "id": "885e3a1c",
   "metadata": {},
   "outputs": [],
   "source": [
    "X=[[2,4],[1,3],[0,1],[-1,.5]]"
   ]
  },
  {
   "cell_type": "code",
   "execution_count": 83,
   "id": "2c63e5e9",
   "metadata": {},
   "outputs": [
    {
     "name": "stdout",
     "output_type": "stream",
     "text": [
      "[[ 1.5    1.875]\n",
      " [ 0.5    0.875]\n",
      " [-0.5   -1.125]\n",
      " [-1.5   -1.625]]\n",
      "[[1.66666667 2.08333333]\n",
      " [2.08333333 2.72916667]]\n",
      "(array([0.04791566, 4.34791768]), array([[-0.78964958,  0.6135581 ],\n",
      "       [ 0.6135581 ,  0.78964958]]))\n",
      "[0.6135581  0.78964958]\n",
      "Eigen values [4.34791768 0.04791566]\n",
      "Eigen vectors [[-0.78964958  0.6135581 ]\n",
      " [ 0.6135581   0.78964958]]\n",
      "Eigen sets : [0.78964958 0.6135581 ]\n"
     ]
    },
    {
     "data": {
      "text/plain": [
       "array([ 2.33489581,  0.93168813, -1.08507765, -2.18150628])"
      ]
     },
     "execution_count": 83,
     "metadata": {},
     "output_type": "execute_result"
    }
   ],
   "source": [
    "PCA(X,1)"
   ]
  },
  {
   "cell_type": "code",
   "execution_count": 44,
   "id": "6b6f44ff",
   "metadata": {},
   "outputs": [],
   "source": [
    "X=[[4,11],[8,4],[13,5],[7,14]]"
   ]
  },
  {
   "cell_type": "code",
   "execution_count": 46,
   "id": "c22616f3",
   "metadata": {},
   "outputs": [
    {
     "name": "stdout",
     "output_type": "stream",
     "text": [
      "[[-4.   2.5]\n",
      " [ 0.  -4.5]\n",
      " [ 5.  -3.5]\n",
      " [-1.   5.5]]\n",
      "[[ 14. -11.]\n",
      " [-11.  23.]]\n",
      "[ 6.61513568 30.38486432]\n",
      "[[-0.55738997]\n",
      " [ 0.83025082]]\n"
     ]
    },
    {
     "data": {
      "text/plain": [
       "array([[ 4.30518692],\n",
       "       [-3.73612869],\n",
       "       [-5.69282771],\n",
       "       [ 5.12376947]])"
      ]
     },
     "execution_count": 46,
     "metadata": {},
     "output_type": "execute_result"
    }
   ],
   "source": [
    "PCA(X,1)"
   ]
  },
  {
   "cell_type": "code",
   "execution_count": 82,
   "id": "b4dd8d6d",
   "metadata": {},
   "outputs": [
    {
     "ename": "AttributeError",
     "evalue": "'list' object has no attribute 'transpose'",
     "output_type": "error",
     "traceback": [
      "\u001b[1;31m---------------------------------------------------------------------------\u001b[0m",
      "\u001b[1;31mAttributeError\u001b[0m                            Traceback (most recent call last)",
      "\u001b[1;32m<ipython-input-82-13a412bd0551>\u001b[0m in \u001b[0;36m<module>\u001b[1;34m\u001b[0m\n\u001b[0;32m      1\u001b[0m \u001b[1;31m#[ 0.56959484 -0.82192562]\u001b[0m\u001b[1;33m\u001b[0m\u001b[1;33m\u001b[0m\u001b[1;33m\u001b[0m\u001b[0m\n\u001b[1;32m----> 2\u001b[1;33m \u001b[0mnp\u001b[0m\u001b[1;33m.\u001b[0m\u001b[0mdot\u001b[0m\u001b[1;33m(\u001b[0m\u001b[1;33m[\u001b[0m\u001b[1;33m[\u001b[0m\u001b[1;36m0.56959484\u001b[0m\u001b[1;33m]\u001b[0m\u001b[1;33m,\u001b[0m\u001b[1;33m[\u001b[0m\u001b[1;33m-\u001b[0m\u001b[1;36m0.82192562\u001b[0m\u001b[1;33m]\u001b[0m\u001b[1;33m]\u001b[0m\u001b[1;33m.\u001b[0m\u001b[0mtranspose\u001b[0m\u001b[1;33m(\u001b[0m\u001b[1;33m)\u001b[0m \u001b[1;33m,\u001b[0m \u001b[0mX_meaned\u001b[0m\u001b[1;33m.\u001b[0m\u001b[0mtranspose\u001b[0m\u001b[1;33m(\u001b[0m\u001b[1;33m)\u001b[0m \u001b[1;33m)\u001b[0m\u001b[1;33m.\u001b[0m\u001b[0mtranspose\u001b[0m\u001b[1;33m(\u001b[0m\u001b[1;33m)\u001b[0m\u001b[1;33m\u001b[0m\u001b[1;33m\u001b[0m\u001b[0m\n\u001b[0m",
      "\u001b[1;31mAttributeError\u001b[0m: 'list' object has no attribute 'transpose'"
     ]
    }
   ],
   "source": [
    "#[ 0.56959484 -0.82192562]\n",
    "np.dot([[0.56959484],[-0.82192562]].transpose() , X_meaned.transpose() ).transpose()"
   ]
  },
  {
   "cell_type": "code",
   "execution_count": 40,
   "id": "e4093cbd",
   "metadata": {},
   "outputs": [],
   "source": [
    " eigen_vectors=[[-0.8219256,0.56959484],\n",
    "                [ 0.56959484,0.82192562]]"
   ]
  },
  {
   "cell_type": "code",
   "execution_count": 41,
   "id": "a0a3dc73",
   "metadata": {},
   "outputs": [],
   "source": [
    "sorted_index=[1,0]"
   ]
  },
  {
   "cell_type": "code",
   "execution_count": 42,
   "id": "6e41ba31",
   "metadata": {},
   "outputs": [
    {
     "data": {
      "text/plain": [
       "[[-0.8219256, 0.56959484], [0.56959484, 0.82192562]]"
      ]
     },
     "execution_count": 42,
     "metadata": {},
     "output_type": "execute_result"
    }
   ],
   "source": [
    "eigen_vectors"
   ]
  },
  {
   "cell_type": "code",
   "execution_count": 53,
   "id": "3c7c0d2c",
   "metadata": {},
   "outputs": [
    {
     "ename": "TypeError",
     "evalue": "list indices must be integers or slices, not tuple",
     "output_type": "error",
     "traceback": [
      "\u001b[1;31m---------------------------------------------------------------------------\u001b[0m",
      "\u001b[1;31mTypeError\u001b[0m                                 Traceback (most recent call last)",
      "\u001b[1;32m<ipython-input-53-0aa41aa22498>\u001b[0m in \u001b[0;36m<module>\u001b[1;34m\u001b[0m\n\u001b[1;32m----> 1\u001b[1;33m \u001b[0meigen_vectors\u001b[0m\u001b[1;33m[\u001b[0m\u001b[1;33m:\u001b[0m\u001b[1;33m,\u001b[0m\u001b[0my\u001b[0m\u001b[1;33m]\u001b[0m\u001b[1;33m\u001b[0m\u001b[1;33m\u001b[0m\u001b[0m\n\u001b[0m",
      "\u001b[1;31mTypeError\u001b[0m: list indices must be integers or slices, not tuple"
     ]
    }
   ],
   "source": [
    "eigen_vectors[:,y]"
   ]
  },
  {
   "cell_type": "code",
   "execution_count": 112,
   "id": "3aefba31",
   "metadata": {},
   "outputs": [],
   "source": [
    "a=np.empty(3)"
   ]
  },
  {
   "cell_type": "code",
   "execution_count": 113,
   "id": "a0c065c7",
   "metadata": {},
   "outputs": [
    {
     "data": {
      "text/plain": [
       "array([  56.02457535,  786.38798335, 1137.5874413 ])"
      ]
     },
     "execution_count": 113,
     "metadata": {},
     "output_type": "execute_result"
    }
   ],
   "source": [
    "X=[[90,60,90],[90,90,30],[60,60,60],[60,60,90],[30,30,30]]"
   ]
  },
  {
   "cell_type": "code",
   "execution_count": null,
   "id": "b2258397",
   "metadata": {},
   "outputs": [],
   "source": []
  }
 ],
 "metadata": {
  "kernelspec": {
   "display_name": "Python 3",
   "language": "python",
   "name": "python3"
  },
  "language_info": {
   "codemirror_mode": {
    "name": "ipython",
    "version": 3
   },
   "file_extension": ".py",
   "mimetype": "text/x-python",
   "name": "python",
   "nbconvert_exporter": "python",
   "pygments_lexer": "ipython3",
   "version": "3.8.8"
  }
 },
 "nbformat": 4,
 "nbformat_minor": 5
}
