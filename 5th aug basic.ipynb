{
 "cells": [
  {
   "cell_type": "code",
   "execution_count": 10,
   "id": "8b60e225",
   "metadata": {},
   "outputs": [],
   "source": [
    "k=[1,2,3,4]\n",
    "del k[1]"
   ]
  },
  {
   "cell_type": "code",
   "execution_count": 11,
   "id": "77f89a78",
   "metadata": {},
   "outputs": [
    {
     "data": {
      "text/plain": [
       "[1, 3, 4]"
      ]
     },
     "execution_count": 11,
     "metadata": {},
     "output_type": "execute_result"
    }
   ],
   "source": [
    "k"
   ]
  },
  {
   "cell_type": "code",
   "execution_count": 12,
   "id": "143552ca",
   "metadata": {},
   "outputs": [],
   "source": [
    "s={1,\"mylise\",(1,2,3)}"
   ]
  },
  {
   "cell_type": "code",
   "execution_count": 13,
   "id": "96d9e143",
   "metadata": {},
   "outputs": [
    {
     "data": {
      "text/plain": [
       "{(1, 2, 3), 1, 'mylise'}"
      ]
     },
     "execution_count": 13,
     "metadata": {},
     "output_type": "execute_result"
    }
   ],
   "source": [
    "s"
   ]
  },
  {
   "cell_type": "code",
   "execution_count": 14,
   "id": "c9ccd21c",
   "metadata": {},
   "outputs": [],
   "source": [
    "s.remove(1)"
   ]
  },
  {
   "cell_type": "code",
   "execution_count": 15,
   "id": "07def54e",
   "metadata": {},
   "outputs": [
    {
     "data": {
      "text/plain": [
       "{(1, 2, 3), 'mylise'}"
      ]
     },
     "execution_count": 15,
     "metadata": {},
     "output_type": "execute_result"
    }
   ],
   "source": [
    "s"
   ]
  },
  {
   "cell_type": "code",
   "execution_count": 17,
   "id": "a944c98a",
   "metadata": {},
   "outputs": [],
   "source": [
    "d={'name':\"valli\",'age':8}\n",
    "del d['age']"
   ]
  },
  {
   "cell_type": "code",
   "execution_count": 18,
   "id": "f4f39995",
   "metadata": {},
   "outputs": [
    {
     "data": {
      "text/plain": [
       "{'name': 'valli'}"
      ]
     },
     "execution_count": 18,
     "metadata": {},
     "output_type": "execute_result"
    }
   ],
   "source": [
    "d"
   ]
  },
  {
   "cell_type": "code",
   "execution_count": 20,
   "id": "f6231eb2",
   "metadata": {},
   "outputs": [
    {
     "name": "stdout",
     "output_type": "stream",
     "text": [
      "Enter the names with space seperation :valli mangai python\n"
     ]
    },
    {
     "data": {
      "text/plain": [
       "['VALLI', 'MANGAI', 'PYTHON']"
      ]
     },
     "execution_count": 20,
     "metadata": {},
     "output_type": "execute_result"
    }
   ],
   "source": [
    "name=input(\"Enter the names with space seperation :\")\n",
    "name=list(name.split(\" \"))\n",
    "for i in range(0,len(name)):\n",
    "    name[i]=name[i].upper()\n",
    "name\n",
    "    "
   ]
  },
  {
   "cell_type": "code",
   "execution_count": null,
   "id": "571c7d11",
   "metadata": {},
   "outputs": [],
   "source": []
  }
 ],
 "metadata": {
  "kernelspec": {
   "display_name": "Python 3",
   "language": "python",
   "name": "python3"
  },
  "language_info": {
   "codemirror_mode": {
    "name": "ipython",
    "version": 3
   },
   "file_extension": ".py",
   "mimetype": "text/x-python",
   "name": "python",
   "nbconvert_exporter": "python",
   "pygments_lexer": "ipython3",
   "version": "3.8.8"
  }
 },
 "nbformat": 4,
 "nbformat_minor": 5
}
