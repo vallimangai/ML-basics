{
 "cells": [
  {
   "cell_type": "code",
   "execution_count": 16,
   "id": "e39bd63b",
   "metadata": {},
   "outputs": [],
   "source": [
    "import pandas as pd\n",
    "from sklearn.svm import SVC  \n",
    "from sklearn.model_selection import train_test_split\n",
    "from sklearn import metrics\n",
    "from sklearn.neural_network import MLPClassifier\n",
    "import numpy as np\n",
    "import matplotlib as mpl\n",
    "import matplotlib.pyplot as plt\n",
    "from sklearn.datasets import fetch_openml\n",
    "from sklearn.metrics import classification_report\n",
    "from sklearn.metrics import confusion_matrix\n",
    "#mnist=fetch_openml('mnist_784',version=1)"
   ]
  },
  {
   "cell_type": "code",
   "execution_count": 2,
   "id": "6eeb8a36",
   "metadata": {},
   "outputs": [
    {
     "data": {
      "text/plain": [
       "dict_keys(['data', 'target', 'frame', 'categories', 'feature_names', 'target_names', 'DESCR', 'details', 'url'])"
      ]
     },
     "execution_count": 2,
     "metadata": {},
     "output_type": "execute_result"
    }
   ],
   "source": [
    "mnist.keys()"
   ]
  },
  {
   "cell_type": "code",
   "execution_count": 3,
   "id": "9d00bca2",
   "metadata": {},
   "outputs": [
    {
     "name": "stdout",
     "output_type": "stream",
     "text": [
      "(10000, 784)\n",
      "(10000,)\n"
     ]
    }
   ],
   "source": [
    "X,y=mnist[\"data\"][:10000],mnist[\"target\"][:10000]\n",
    "print(X.shape)\n",
    "print(y.shape)"
   ]
  },
  {
   "cell_type": "code",
   "execution_count": 4,
   "id": "e229befa",
   "metadata": {},
   "outputs": [
    {
     "name": "stdout",
     "output_type": "stream",
     "text": [
      "<class 'pandas.core.frame.DataFrame'>\n",
      "RangeIndex: 10000 entries, 0 to 9999\n",
      "Columns: 784 entries, pixel1 to pixel784\n",
      "dtypes: float64(784)\n",
      "memory usage: 59.8 MB\n"
     ]
    }
   ],
   "source": [
    "X.info()"
   ]
  },
  {
   "cell_type": "code",
   "execution_count": 5,
   "id": "94f1e99c",
   "metadata": {},
   "outputs": [
    {
     "data": {
      "text/html": [
       "<div>\n",
       "<style scoped>\n",
       "    .dataframe tbody tr th:only-of-type {\n",
       "        vertical-align: middle;\n",
       "    }\n",
       "\n",
       "    .dataframe tbody tr th {\n",
       "        vertical-align: top;\n",
       "    }\n",
       "\n",
       "    .dataframe thead th {\n",
       "        text-align: right;\n",
       "    }\n",
       "</style>\n",
       "<table border=\"1\" class=\"dataframe\">\n",
       "  <thead>\n",
       "    <tr style=\"text-align: right;\">\n",
       "      <th></th>\n",
       "      <th>pixel1</th>\n",
       "      <th>pixel2</th>\n",
       "      <th>pixel3</th>\n",
       "      <th>pixel4</th>\n",
       "      <th>pixel5</th>\n",
       "      <th>pixel6</th>\n",
       "      <th>pixel7</th>\n",
       "      <th>pixel8</th>\n",
       "      <th>pixel9</th>\n",
       "      <th>pixel10</th>\n",
       "      <th>...</th>\n",
       "      <th>pixel775</th>\n",
       "      <th>pixel776</th>\n",
       "      <th>pixel777</th>\n",
       "      <th>pixel778</th>\n",
       "      <th>pixel779</th>\n",
       "      <th>pixel780</th>\n",
       "      <th>pixel781</th>\n",
       "      <th>pixel782</th>\n",
       "      <th>pixel783</th>\n",
       "      <th>pixel784</th>\n",
       "    </tr>\n",
       "  </thead>\n",
       "  <tbody>\n",
       "    <tr>\n",
       "      <th>0</th>\n",
       "      <td>0.0</td>\n",
       "      <td>0.0</td>\n",
       "      <td>0.0</td>\n",
       "      <td>0.0</td>\n",
       "      <td>0.0</td>\n",
       "      <td>0.0</td>\n",
       "      <td>0.0</td>\n",
       "      <td>0.0</td>\n",
       "      <td>0.0</td>\n",
       "      <td>0.0</td>\n",
       "      <td>...</td>\n",
       "      <td>0.0</td>\n",
       "      <td>0.0</td>\n",
       "      <td>0.0</td>\n",
       "      <td>0.0</td>\n",
       "      <td>0.0</td>\n",
       "      <td>0.0</td>\n",
       "      <td>0.0</td>\n",
       "      <td>0.0</td>\n",
       "      <td>0.0</td>\n",
       "      <td>0.0</td>\n",
       "    </tr>\n",
       "    <tr>\n",
       "      <th>1</th>\n",
       "      <td>0.0</td>\n",
       "      <td>0.0</td>\n",
       "      <td>0.0</td>\n",
       "      <td>0.0</td>\n",
       "      <td>0.0</td>\n",
       "      <td>0.0</td>\n",
       "      <td>0.0</td>\n",
       "      <td>0.0</td>\n",
       "      <td>0.0</td>\n",
       "      <td>0.0</td>\n",
       "      <td>...</td>\n",
       "      <td>0.0</td>\n",
       "      <td>0.0</td>\n",
       "      <td>0.0</td>\n",
       "      <td>0.0</td>\n",
       "      <td>0.0</td>\n",
       "      <td>0.0</td>\n",
       "      <td>0.0</td>\n",
       "      <td>0.0</td>\n",
       "      <td>0.0</td>\n",
       "      <td>0.0</td>\n",
       "    </tr>\n",
       "    <tr>\n",
       "      <th>2</th>\n",
       "      <td>0.0</td>\n",
       "      <td>0.0</td>\n",
       "      <td>0.0</td>\n",
       "      <td>0.0</td>\n",
       "      <td>0.0</td>\n",
       "      <td>0.0</td>\n",
       "      <td>0.0</td>\n",
       "      <td>0.0</td>\n",
       "      <td>0.0</td>\n",
       "      <td>0.0</td>\n",
       "      <td>...</td>\n",
       "      <td>0.0</td>\n",
       "      <td>0.0</td>\n",
       "      <td>0.0</td>\n",
       "      <td>0.0</td>\n",
       "      <td>0.0</td>\n",
       "      <td>0.0</td>\n",
       "      <td>0.0</td>\n",
       "      <td>0.0</td>\n",
       "      <td>0.0</td>\n",
       "      <td>0.0</td>\n",
       "    </tr>\n",
       "    <tr>\n",
       "      <th>3</th>\n",
       "      <td>0.0</td>\n",
       "      <td>0.0</td>\n",
       "      <td>0.0</td>\n",
       "      <td>0.0</td>\n",
       "      <td>0.0</td>\n",
       "      <td>0.0</td>\n",
       "      <td>0.0</td>\n",
       "      <td>0.0</td>\n",
       "      <td>0.0</td>\n",
       "      <td>0.0</td>\n",
       "      <td>...</td>\n",
       "      <td>0.0</td>\n",
       "      <td>0.0</td>\n",
       "      <td>0.0</td>\n",
       "      <td>0.0</td>\n",
       "      <td>0.0</td>\n",
       "      <td>0.0</td>\n",
       "      <td>0.0</td>\n",
       "      <td>0.0</td>\n",
       "      <td>0.0</td>\n",
       "      <td>0.0</td>\n",
       "    </tr>\n",
       "    <tr>\n",
       "      <th>4</th>\n",
       "      <td>0.0</td>\n",
       "      <td>0.0</td>\n",
       "      <td>0.0</td>\n",
       "      <td>0.0</td>\n",
       "      <td>0.0</td>\n",
       "      <td>0.0</td>\n",
       "      <td>0.0</td>\n",
       "      <td>0.0</td>\n",
       "      <td>0.0</td>\n",
       "      <td>0.0</td>\n",
       "      <td>...</td>\n",
       "      <td>0.0</td>\n",
       "      <td>0.0</td>\n",
       "      <td>0.0</td>\n",
       "      <td>0.0</td>\n",
       "      <td>0.0</td>\n",
       "      <td>0.0</td>\n",
       "      <td>0.0</td>\n",
       "      <td>0.0</td>\n",
       "      <td>0.0</td>\n",
       "      <td>0.0</td>\n",
       "    </tr>\n",
       "  </tbody>\n",
       "</table>\n",
       "<p>5 rows × 784 columns</p>\n",
       "</div>"
      ],
      "text/plain": [
       "   pixel1  pixel2  pixel3  pixel4  pixel5  pixel6  pixel7  pixel8  pixel9  \\\n",
       "0     0.0     0.0     0.0     0.0     0.0     0.0     0.0     0.0     0.0   \n",
       "1     0.0     0.0     0.0     0.0     0.0     0.0     0.0     0.0     0.0   \n",
       "2     0.0     0.0     0.0     0.0     0.0     0.0     0.0     0.0     0.0   \n",
       "3     0.0     0.0     0.0     0.0     0.0     0.0     0.0     0.0     0.0   \n",
       "4     0.0     0.0     0.0     0.0     0.0     0.0     0.0     0.0     0.0   \n",
       "\n",
       "   pixel10  ...  pixel775  pixel776  pixel777  pixel778  pixel779  pixel780  \\\n",
       "0      0.0  ...       0.0       0.0       0.0       0.0       0.0       0.0   \n",
       "1      0.0  ...       0.0       0.0       0.0       0.0       0.0       0.0   \n",
       "2      0.0  ...       0.0       0.0       0.0       0.0       0.0       0.0   \n",
       "3      0.0  ...       0.0       0.0       0.0       0.0       0.0       0.0   \n",
       "4      0.0  ...       0.0       0.0       0.0       0.0       0.0       0.0   \n",
       "\n",
       "   pixel781  pixel782  pixel783  pixel784  \n",
       "0       0.0       0.0       0.0       0.0  \n",
       "1       0.0       0.0       0.0       0.0  \n",
       "2       0.0       0.0       0.0       0.0  \n",
       "3       0.0       0.0       0.0       0.0  \n",
       "4       0.0       0.0       0.0       0.0  \n",
       "\n",
       "[5 rows x 784 columns]"
      ]
     },
     "execution_count": 5,
     "metadata": {},
     "output_type": "execute_result"
    }
   ],
   "source": [
    "X.head()"
   ]
  },
  {
   "cell_type": "code",
   "execution_count": 6,
   "id": "1ebf9520",
   "metadata": {},
   "outputs": [],
   "source": [
    "from sklearn.preprocessing import StandardScaler"
   ]
  },
  {
   "cell_type": "code",
   "execution_count": 7,
   "id": "420a7cc0",
   "metadata": {},
   "outputs": [],
   "source": [
    "myscaler = StandardScaler()"
   ]
  },
  {
   "cell_type": "code",
   "execution_count": 8,
   "id": "f6d75137",
   "metadata": {},
   "outputs": [
    {
     "name": "stderr",
     "output_type": "stream",
     "text": [
      "C:\\ProgramData\\Anaconda3\\lib\\site-packages\\sklearn\\utils\\validation.py:70: FutureWarning: Pass copy=      pixel1  pixel2  pixel3  pixel4  pixel5  pixel6  pixel7  pixel8  pixel9  \\\n",
      "0        0.0     0.0     0.0     0.0     0.0     0.0     0.0     0.0     0.0   \n",
      "1        0.0     0.0     0.0     0.0     0.0     0.0     0.0     0.0     0.0   \n",
      "2        0.0     0.0     0.0     0.0     0.0     0.0     0.0     0.0     0.0   \n",
      "3        0.0     0.0     0.0     0.0     0.0     0.0     0.0     0.0     0.0   \n",
      "4        0.0     0.0     0.0     0.0     0.0     0.0     0.0     0.0     0.0   \n",
      "...      ...     ...     ...     ...     ...     ...     ...     ...     ...   \n",
      "9995     0.0     0.0     0.0     0.0     0.0     0.0     0.0     0.0     0.0   \n",
      "9996     0.0     0.0     0.0     0.0     0.0     0.0     0.0     0.0     0.0   \n",
      "9997     0.0     0.0     0.0     0.0     0.0     0.0     0.0     0.0     0.0   \n",
      "9998     0.0     0.0     0.0     0.0     0.0     0.0     0.0     0.0     0.0   \n",
      "9999     0.0     0.0     0.0     0.0     0.0     0.0     0.0     0.0     0.0   \n",
      "\n",
      "      pixel10  ...  pixel775  pixel776  pixel777  pixel778  pixel779  \\\n",
      "0         0.0  ...       0.0       0.0       0.0       0.0       0.0   \n",
      "1         0.0  ...       0.0       0.0       0.0       0.0       0.0   \n",
      "2         0.0  ...       0.0       0.0       0.0       0.0       0.0   \n",
      "3         0.0  ...       0.0       0.0       0.0       0.0       0.0   \n",
      "4         0.0  ...       0.0       0.0       0.0       0.0       0.0   \n",
      "...       ...  ...       ...       ...       ...       ...       ...   \n",
      "9995      0.0  ...       0.0       0.0       0.0       0.0       0.0   \n",
      "9996      0.0  ...       0.0       0.0       0.0       0.0       0.0   \n",
      "9997      0.0  ...       0.0       0.0       0.0       0.0       0.0   \n",
      "9998      0.0  ...       0.0       0.0       0.0       0.0       0.0   \n",
      "9999      0.0  ...       0.0       0.0       0.0       0.0       0.0   \n",
      "\n",
      "      pixel780  pixel781  pixel782  pixel783  pixel784  \n",
      "0          0.0       0.0       0.0       0.0       0.0  \n",
      "1          0.0       0.0       0.0       0.0       0.0  \n",
      "2          0.0       0.0       0.0       0.0       0.0  \n",
      "3          0.0       0.0       0.0       0.0       0.0  \n",
      "4          0.0       0.0       0.0       0.0       0.0  \n",
      "...        ...       ...       ...       ...       ...  \n",
      "9995       0.0       0.0       0.0       0.0       0.0  \n",
      "9996       0.0       0.0       0.0       0.0       0.0  \n",
      "9997       0.0       0.0       0.0       0.0       0.0  \n",
      "9998       0.0       0.0       0.0       0.0       0.0  \n",
      "9999       0.0       0.0       0.0       0.0       0.0  \n",
      "\n",
      "[10000 rows x 784 columns] as keyword args. From version 1.0 (renaming of 0.25) passing these as positional arguments will result in an error\n",
      "  warnings.warn(f\"Pass {args_msg} as keyword args. From version \"\n"
     ]
    },
    {
     "data": {
      "text/plain": [
       "StandardScaler(copy=      pixel1  pixel2  pixel3  pixel4  pixel5  pixel6  pixel7  pixel8  pixel9  \\\n",
       "0        0.0     0.0     0.0     0.0     0.0     0.0     0.0     0.0     0.0   \n",
       "1        0.0     0.0     0.0     0.0     0.0     0.0     0.0     0.0     0.0   \n",
       "2        0.0     0.0     0.0     0.0     0.0     0.0     0.0     0.0     0.0   \n",
       "3        0.0     0.0     0.0     0.0     0.0     0.0     0.0     0.0     0.0   \n",
       "4        0.0     0.0     0.0     0.0     0.0     0.0     0.0     0.0     0.0   \n",
       "...      ...     ...     ...     ...     ...     ...     ...     ...     ...   \n",
       "9995     0.0     0.0     0.0     0.0     0.0     0.0     0.0     0.0     0.0   \n",
       "9996     0.0     0.0     0.0     0.0     0.0     0.0     0.0     0.0     0.0   \n",
       "9997     0.0     0.0     0.0     0.0     0.0     0.0     0.0     0.0     0.0   \n",
       "9998     0.0     0.0     0....\n",
       "9996      0.0  ...       0.0       0.0       0.0       0.0       0.0   \n",
       "9997      0.0  ...       0.0       0.0       0.0       0.0       0.0   \n",
       "9998      0.0  ...       0.0       0.0       0.0       0.0       0.0   \n",
       "9999      0.0  ...       0.0       0.0       0.0       0.0       0.0   \n",
       "\n",
       "      pixel780  pixel781  pixel782  pixel783  pixel784  \n",
       "0          0.0       0.0       0.0       0.0       0.0  \n",
       "1          0.0       0.0       0.0       0.0       0.0  \n",
       "2          0.0       0.0       0.0       0.0       0.0  \n",
       "3          0.0       0.0       0.0       0.0       0.0  \n",
       "4          0.0       0.0       0.0       0.0       0.0  \n",
       "...        ...       ...       ...       ...       ...  \n",
       "9995       0.0       0.0       0.0       0.0       0.0  \n",
       "9996       0.0       0.0       0.0       0.0       0.0  \n",
       "9997       0.0       0.0       0.0       0.0       0.0  \n",
       "9998       0.0       0.0       0.0       0.0       0.0  \n",
       "9999       0.0       0.0       0.0       0.0       0.0  \n",
       "\n",
       "[10000 rows x 784 columns])"
      ]
     },
     "execution_count": 8,
     "metadata": {},
     "output_type": "execute_result"
    }
   ],
   "source": [
    "StandardScaler(X)"
   ]
  },
  {
   "cell_type": "code",
   "execution_count": 9,
   "id": "33963de4",
   "metadata": {},
   "outputs": [],
   "source": [
    "m1 = MLPClassifier(hidden_layer_sizes=(9, 12, 10, 15), activation='relu', solver='adam', max_iter=2000)"
   ]
  },
  {
   "cell_type": "code",
   "execution_count": 10,
   "id": "7fd4debe",
   "metadata": {},
   "outputs": [],
   "source": [
    "X_train, X_test, y_train, y_test = train_test_split(X, y, test_size = 0.20)"
   ]
  },
  {
   "cell_type": "code",
   "execution_count": 11,
   "id": "03c64144",
   "metadata": {},
   "outputs": [],
   "source": [
    "# Feature scaling\n",
    "scaler = StandardScaler()  \n",
    "scaler.fit(X_train)\n",
    "X_train = scaler.transform(X_train)  \n",
    "X_test = scaler.transform(X_test)"
   ]
  },
  {
   "cell_type": "code",
   "execution_count": 12,
   "id": "520a9d9a",
   "metadata": {},
   "outputs": [
    {
     "data": {
      "text/plain": [
       "MLPClassifier(hidden_layer_sizes=(10, 10, 10), max_iter=1000)"
      ]
     },
     "execution_count": 12,
     "metadata": {},
     "output_type": "execute_result"
    }
   ],
   "source": [
    "mlp = MLPClassifier(hidden_layer_sizes=(10, 10, 10), max_iter=1000)  \n",
    "mlp.fit(X_train, y_train.values.ravel())"
   ]
  },
  {
   "cell_type": "code",
   "execution_count": 13,
   "id": "1d6bd6ea",
   "metadata": {},
   "outputs": [],
   "source": [
    "predictions = mlp.predict(X_test)"
   ]
  },
  {
   "cell_type": "code",
   "execution_count": 14,
   "id": "d5ad866e",
   "metadata": {},
   "outputs": [
    {
     "name": "stdout",
     "output_type": "stream",
     "text": [
      "['3' '2' '8' ... '9' '1' '5']\n"
     ]
    }
   ],
   "source": [
    "print(predictions)"
   ]
  },
  {
   "cell_type": "code",
   "execution_count": 15,
   "id": "3e545622",
   "metadata": {},
   "outputs": [
    {
     "name": "stdout",
     "output_type": "stream",
     "text": [
      "[[177   0   2   1   0   1   3   1   3   2]\n",
      " [  0 214   3   2   0   1   1   0   3   1]\n",
      " [  1   1 157   7   6   0   4   4  11   0]\n",
      " [  2   3   4 175   0  10   0   2   6   3]\n",
      " [  1   2   1   2 181   2   4   6   0   6]\n",
      " [  1   2   0  12   2 132   2   2   7   3]\n",
      " [  0   0   3   0   6   4 200   2   1   0]\n",
      " [  0   0   3   1   3   1   0 180   5  12]\n",
      " [  3   2   8   4   2  15   4   1 166   0]\n",
      " [  1   1   0   4   9   1   0   7   2 170]]\n",
      "              precision    recall  f1-score   support\n",
      "\n",
      "           0       0.95      0.93      0.94       190\n",
      "           1       0.95      0.95      0.95       225\n",
      "           2       0.87      0.82      0.84       191\n",
      "           3       0.84      0.85      0.85       205\n",
      "           4       0.87      0.88      0.87       205\n",
      "           5       0.79      0.81      0.80       163\n",
      "           6       0.92      0.93      0.92       216\n",
      "           7       0.88      0.88      0.88       205\n",
      "           8       0.81      0.81      0.81       205\n",
      "           9       0.86      0.87      0.87       195\n",
      "\n",
      "    accuracy                           0.88      2000\n",
      "   macro avg       0.87      0.87      0.87      2000\n",
      "weighted avg       0.88      0.88      0.88      2000\n",
      "\n"
     ]
    }
   ],
   "source": [
    "print(confusion_matrix(y_test,predictions))  \n",
    "print(classification_report(y_test,predictions))"
   ]
  },
  {
   "cell_type": "code",
   "execution_count": 17,
   "id": "896cc4a3",
   "metadata": {},
   "outputs": [],
   "source": [
    "??mlp"
   ]
  },
  {
   "cell_type": "code",
   "execution_count": null,
   "id": "77214a5e",
   "metadata": {},
   "outputs": [],
   "source": []
  }
 ],
 "metadata": {
  "kernelspec": {
   "display_name": "Python 3",
   "language": "python",
   "name": "python3"
  },
  "language_info": {
   "codemirror_mode": {
    "name": "ipython",
    "version": 3
   },
   "file_extension": ".py",
   "mimetype": "text/x-python",
   "name": "python",
   "nbconvert_exporter": "python",
   "pygments_lexer": "ipython3",
   "version": "3.8.8"
  }
 },
 "nbformat": 4,
 "nbformat_minor": 5
}
